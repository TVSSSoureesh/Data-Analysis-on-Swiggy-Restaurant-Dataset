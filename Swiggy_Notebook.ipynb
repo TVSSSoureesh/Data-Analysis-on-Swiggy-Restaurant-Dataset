{
  "metadata": {
    "kernelspec": {
      "language": "python",
      "display_name": "Python 3",
      "name": "python3"
    },
    "language_info": {
      "name": "python",
      "version": "3.10.13",
      "mimetype": "text/x-python",
      "codemirror_mode": {
        "name": "ipython",
        "version": 3
      },
      "pygments_lexer": "ipython3",
      "nbconvert_exporter": "python",
      "file_extension": ".py"
    },
    "kaggle": {
      "accelerator": "none",
      "dataSources": [
        {
          "sourceId": 7601843,
          "sourceType": "datasetVersion",
          "datasetId": 4425448
        }
      ],
      "dockerImageVersionId": 30646,
      "isInternetEnabled": true,
      "language": "python",
      "sourceType": "notebook",
      "isGpuEnabled": false
    },
    "colab": {
      "name": "Swiggy Notebook",
      "provenance": [],
      "include_colab_link": true
    }
  },
  "nbformat_minor": 0,
  "nbformat": 4,
  "cells": [
    {
      "cell_type": "markdown",
      "metadata": {
        "id": "view-in-github",
        "colab_type": "text"
      },
      "source": [
        "<a href=\"https://colab.research.google.com/github/TVSSSoureesh/Data-Analysis-on-Swiggy-Restaurant-Dataset/blob/main/Swiggy_Notebook.ipynb\" target=\"_parent\"><img src=\"https://colab.research.google.com/assets/colab-badge.svg\" alt=\"Open In Colab\"/></a>"
      ]
    },
    {
      "source": [
        "# IMPORTANT: RUN THIS CELL IN ORDER TO IMPORT YOUR KAGGLE DATA SOURCES,\n",
        "# THEN FEEL FREE TO DELETE THIS CELL.\n",
        "# NOTE: THIS NOTEBOOK ENVIRONMENT DIFFERS FROM KAGGLE'S PYTHON\n",
        "# ENVIRONMENT SO THERE MAY BE MISSING LIBRARIES USED BY YOUR\n",
        "# NOTEBOOK.\n",
        "import kagglehub\n",
        "rrkcoder_swiggy_restaurants_dataset_path = kagglehub.dataset_download('rrkcoder/swiggy-restaurants-dataset')\n",
        "\n",
        "print('Data source import complete.')\n"
      ],
      "metadata": {
        "id": "1gPJNcOVUeH-"
      },
      "cell_type": "code",
      "outputs": [],
      "execution_count": null
    },
    {
      "cell_type": "markdown",
      "source": [
        "<div style=\"padding: 20px;border-radius: 16px;background-color: #FF3CAC;\n",
        "background-image: linear-gradient(225deg, #FF3CAC 0%, #784BA0 50%, #2B86C5 100%);\n",
        "color: white;text-align:center;font-family: Inter,sans-serif;\">\n",
        "        <h4 style=\"font-size: 24px;\">Swiggy Restaurants Dataset</h4>\n",
        "    </div>"
      ],
      "metadata": {
        "id": "yjmIAUrKUeIm"
      }
    },
    {
      "cell_type": "code",
      "source": [
        "import pandas as pd\n",
        "import numpy as np\n",
        "import matplotlib.pyplot as plt\n",
        "import seaborn as sns\n",
        "import plotly.express as px"
      ],
      "metadata": {
        "execution": {
          "iopub.status.busy": "2024-02-10T17:55:54.937292Z",
          "iopub.execute_input": "2024-02-10T17:55:54.937681Z",
          "iopub.status.idle": "2024-02-10T17:55:54.943567Z",
          "shell.execute_reply.started": "2024-02-10T17:55:54.937651Z",
          "shell.execute_reply": "2024-02-10T17:55:54.942254Z"
        },
        "trusted": true,
        "id": "l3gckwIDUeJN"
      },
      "execution_count": null,
      "outputs": []
    },
    {
      "cell_type": "code",
      "source": [
        "\n",
        "df = pd.read_csv('/kaggle/input/swiggy-restaurants-dataset/swiggy_file.csv')"
      ],
      "metadata": {
        "execution": {
          "iopub.status.busy": "2024-02-10T17:55:54.945578Z",
          "iopub.execute_input": "2024-02-10T17:55:54.94654Z",
          "iopub.status.idle": "2024-02-10T17:55:55.725154Z",
          "shell.execute_reply.started": "2024-02-10T17:55:54.946505Z",
          "shell.execute_reply": "2024-02-10T17:55:55.724Z"
        },
        "trusted": true,
        "id": "gxuN0Au0UeJP"
      },
      "execution_count": null,
      "outputs": []
    },
    {
      "cell_type": "code",
      "source": [
        "df"
      ],
      "metadata": {
        "execution": {
          "iopub.status.busy": "2024-02-10T17:55:55.727087Z",
          "iopub.execute_input": "2024-02-10T17:55:55.727504Z",
          "iopub.status.idle": "2024-02-10T17:55:55.747558Z",
          "shell.execute_reply.started": "2024-02-10T17:55:55.727471Z",
          "shell.execute_reply": "2024-02-10T17:55:55.746291Z"
        },
        "trusted": true,
        "id": "gIww5q_8UeJT"
      },
      "execution_count": null,
      "outputs": []
    },
    {
      "cell_type": "markdown",
      "source": [
        "<div style=\"padding: 20px;border-radius: 16px;background-color: #FF3CAC;\n",
        "background-image: linear-gradient(225deg, #FF3CAC 0%, #784BA0 50%, #2B86C5 100%);\n",
        "color: white;text-align:center;font-family: Inter,sans-serif;\">\n",
        "        <h4 style=\"font-size: 24px;\">Data Cleaning</h4>\n",
        "    </div>"
      ],
      "metadata": {
        "id": "vpwKeaUHUeJf"
      }
    },
    {
      "cell_type": "code",
      "source": [
        "#The average price is replaced from 'â‚¹50 for one' to 50\n",
        "df['Average Price'] = df['Average Price'].str.extract('(\\d+)').fillna(0).astype(int)\n"
      ],
      "metadata": {
        "execution": {
          "iopub.status.busy": "2024-02-10T17:55:55.749703Z",
          "iopub.execute_input": "2024-02-10T17:55:55.750233Z",
          "iopub.status.idle": "2024-02-10T17:55:56.259014Z",
          "shell.execute_reply.started": "2024-02-10T17:55:55.750191Z",
          "shell.execute_reply": "2024-02-10T17:55:56.257826Z"
        },
        "trusted": true,
        "id": "jQSjVcLvUeJj"
      },
      "execution_count": null,
      "outputs": []
    },
    {
      "cell_type": "code",
      "source": [
        "df"
      ],
      "metadata": {
        "execution": {
          "iopub.status.busy": "2024-02-10T17:55:56.26205Z",
          "iopub.execute_input": "2024-02-10T17:55:56.263306Z",
          "iopub.status.idle": "2024-02-10T17:55:56.282007Z",
          "shell.execute_reply.started": "2024-02-10T17:55:56.263262Z",
          "shell.execute_reply": "2024-02-10T17:55:56.280495Z"
        },
        "trusted": true,
        "id": "0Oe7JfV0UeJp"
      },
      "execution_count": null,
      "outputs": []
    },
    {
      "cell_type": "code",
      "source": [
        "#The restaurants with rating '-' is replaced with zero\n",
        "df['Rating'] = df['Rating'].replace('-', '0')\n"
      ],
      "metadata": {
        "execution": {
          "iopub.status.busy": "2024-02-10T17:55:56.283435Z",
          "iopub.execute_input": "2024-02-10T17:55:56.284032Z",
          "iopub.status.idle": "2024-02-10T17:55:56.322937Z",
          "shell.execute_reply.started": "2024-02-10T17:55:56.28399Z",
          "shell.execute_reply": "2024-02-10T17:55:56.321773Z"
        },
        "trusted": true,
        "id": "l5bxQJLZUeJr"
      },
      "execution_count": null,
      "outputs": []
    },
    {
      "cell_type": "code",
      "source": [
        "#The restaurants with rating '-' is replaced with zero\n",
        "df['Number of Ratings'] = df['Number of Ratings'].replace('Too Few Ratings', '0')\n"
      ],
      "metadata": {
        "execution": {
          "iopub.status.busy": "2024-02-10T17:55:56.323948Z",
          "iopub.execute_input": "2024-02-10T17:55:56.324278Z",
          "iopub.status.idle": "2024-02-10T17:55:56.355659Z",
          "shell.execute_reply.started": "2024-02-10T17:55:56.324251Z",
          "shell.execute_reply": "2024-02-10T17:55:56.354626Z"
        },
        "trusted": true,
        "id": "AMSgHQYnUeJt"
      },
      "execution_count": null,
      "outputs": []
    },
    {
      "cell_type": "code",
      "source": [
        "df"
      ],
      "metadata": {
        "execution": {
          "iopub.status.busy": "2024-02-10T17:55:56.357146Z",
          "iopub.execute_input": "2024-02-10T17:55:56.357459Z",
          "iopub.status.idle": "2024-02-10T17:55:56.376128Z",
          "shell.execute_reply.started": "2024-02-10T17:55:56.357433Z",
          "shell.execute_reply": "2024-02-10T17:55:56.374983Z"
        },
        "trusted": true,
        "id": "nTIsBA36UeJw"
      },
      "execution_count": null,
      "outputs": []
    },
    {
      "cell_type": "code",
      "source": [
        "df['Number of Ratings'] = df['Number of Ratings'].str.replace(r'\\+.*', '', regex=True)"
      ],
      "metadata": {
        "execution": {
          "iopub.status.busy": "2024-02-10T17:55:56.3776Z",
          "iopub.execute_input": "2024-02-10T17:55:56.378005Z",
          "iopub.status.idle": "2024-02-10T17:55:56.510418Z",
          "shell.execute_reply.started": "2024-02-10T17:55:56.377969Z",
          "shell.execute_reply": "2024-02-10T17:55:56.509482Z"
        },
        "trusted": true,
        "id": "tlUmPNVhUeJx"
      },
      "execution_count": null,
      "outputs": []
    },
    {
      "cell_type": "code",
      "source": [
        "df"
      ],
      "metadata": {
        "execution": {
          "iopub.status.busy": "2024-02-10T17:55:56.511746Z",
          "iopub.execute_input": "2024-02-10T17:55:56.512274Z",
          "iopub.status.idle": "2024-02-10T17:55:56.530151Z",
          "shell.execute_reply.started": "2024-02-10T17:55:56.512244Z",
          "shell.execute_reply": "2024-02-10T17:55:56.528641Z"
        },
        "trusted": true,
        "id": "lkR1Jk6aUeJy"
      },
      "execution_count": null,
      "outputs": []
    },
    {
      "cell_type": "code",
      "source": [
        "df['Number of Ratings'] = df['Number of Ratings'].str.replace(r'\\D', '', regex=True)"
      ],
      "metadata": {
        "execution": {
          "iopub.status.busy": "2024-02-10T17:55:56.534515Z",
          "iopub.execute_input": "2024-02-10T17:55:56.534939Z",
          "iopub.status.idle": "2024-02-10T17:55:56.691471Z",
          "shell.execute_reply.started": "2024-02-10T17:55:56.534906Z",
          "shell.execute_reply": "2024-02-10T17:55:56.690551Z"
        },
        "trusted": true,
        "id": "MXLwQorOUeJz"
      },
      "execution_count": null,
      "outputs": []
    },
    {
      "cell_type": "code",
      "source": [
        "df"
      ],
      "metadata": {
        "execution": {
          "iopub.status.busy": "2024-02-10T17:55:56.692677Z",
          "iopub.execute_input": "2024-02-10T17:55:56.693186Z",
          "iopub.status.idle": "2024-02-10T17:55:56.710684Z",
          "shell.execute_reply.started": "2024-02-10T17:55:56.693158Z",
          "shell.execute_reply": "2024-02-10T17:55:56.709479Z"
        },
        "trusted": true,
        "id": "z4wDj2_LUeJ0"
      },
      "execution_count": null,
      "outputs": []
    },
    {
      "cell_type": "code",
      "source": [
        "df['Offer Name'] = df['Offer Name'].str.replace('\\n', ',')"
      ],
      "metadata": {
        "execution": {
          "iopub.status.busy": "2024-02-10T18:01:11.820862Z",
          "iopub.execute_input": "2024-02-10T18:01:11.821298Z",
          "iopub.status.idle": "2024-02-10T18:01:11.975077Z",
          "shell.execute_reply.started": "2024-02-10T18:01:11.821266Z",
          "shell.execute_reply": "2024-02-10T18:01:11.973813Z"
        },
        "trusted": true,
        "id": "z5w2m6yyUeJ1"
      },
      "execution_count": null,
      "outputs": []
    },
    {
      "cell_type": "code",
      "source": [
        "df"
      ],
      "metadata": {
        "execution": {
          "iopub.status.busy": "2024-02-10T18:01:18.191855Z",
          "iopub.execute_input": "2024-02-10T18:01:18.192278Z",
          "iopub.status.idle": "2024-02-10T18:01:18.211798Z",
          "shell.execute_reply.started": "2024-02-10T18:01:18.192247Z",
          "shell.execute_reply": "2024-02-10T18:01:18.21052Z"
        },
        "trusted": true,
        "id": "zsqxVinOUeJ1"
      },
      "execution_count": null,
      "outputs": []
    },
    {
      "cell_type": "markdown",
      "source": [
        "<div style=\"padding: 20px;border-radius: 16px;background-color: #FF3CAC;\n",
        "background-image: linear-gradient(225deg, #FF3CAC 0%, #784BA0 50%, #2B86C5 100%);\n",
        "color: white;text-align:center;font-family: Inter,sans-serif;\">\n",
        "        <h4 style=\"font-size: 24px;\">Exploratory Data Analysis (EDA)</h4>\n",
        "    </div>"
      ],
      "metadata": {
        "id": "2oQgI9k4UeJ2"
      }
    },
    {
      "cell_type": "code",
      "source": [
        "pure_veg_counts = df['Pure Veg'].value_counts().reset_index()\n",
        "pure_veg_counts.columns = ['Pure Veg', 'Count']\n",
        "\n",
        "# Plot a pie chart\n",
        "fig = px.pie(\n",
        "    pure_veg_counts,\n",
        "    names='Pure Veg',\n",
        "    values='Count',\n",
        "    title='Distribution of Pure Vegetarian Restaurants',\n",
        "    color_discrete_sequence=px.colors.qualitative.Set3,\n",
        "    template='seaborn'\n",
        ")\n",
        "\n",
        "fig.show()"
      ],
      "metadata": {
        "execution": {
          "iopub.status.busy": "2024-02-10T18:11:30.540293Z",
          "iopub.execute_input": "2024-02-10T18:11:30.540667Z",
          "iopub.status.idle": "2024-02-10T18:11:32.762977Z",
          "shell.execute_reply.started": "2024-02-10T18:11:30.540639Z",
          "shell.execute_reply": "2024-02-10T18:11:32.76171Z"
        },
        "trusted": true,
        "id": "iMCDg2XfUeJ2"
      },
      "execution_count": null,
      "outputs": []
    },
    {
      "cell_type": "code",
      "source": [
        "import matplotlib.pyplot as plt\n",
        "\n",
        "df['Rating'] = pd.to_numeric(df['Rating'], errors='coerce')\n",
        "df['Rating Category'] = df['Rating'].apply(lambda x: '0-3' if pd.isna(x) or x < 3 else ('3-4' if x < 4 else '4+'))\n",
        "rating_counts = df['Rating Category'].value_counts()\n",
        "colors = ['gold', 'lightcoral', 'lightskyblue']\n",
        "\n",
        "plt.figure(figsize=(8, 8))\n",
        "plt.pie(rating_counts, labels=rating_counts.index, autopct='%1.1f%%', startangle=90, colors=colors)\n",
        "plt.title('Distribution of Ratings')\n",
        "plt.show()\n"
      ],
      "metadata": {
        "execution": {
          "iopub.status.busy": "2024-02-10T18:12:43.454199Z",
          "iopub.execute_input": "2024-02-10T18:12:43.454634Z",
          "iopub.status.idle": "2024-02-10T18:12:43.93713Z",
          "shell.execute_reply.started": "2024-02-10T18:12:43.4546Z",
          "shell.execute_reply": "2024-02-10T18:12:43.93598Z"
        },
        "trusted": true,
        "id": "xftdr_yrUeJ4"
      },
      "execution_count": null,
      "outputs": []
    },
    {
      "cell_type": "code",
      "source": [
        "#After getting the unique prices, we can divide them into different categories\n",
        "unique_prices = [50, 100, 150, 200, 250, 300, 500, 400, 350, 450, 40, 0, 550, 48, 1, 600, 32, 900, 750, 800, 650, 10, 12, 850, 2]\n",
        "\n",
        "# Define the price ranges\n",
        "price_ranges = {\n",
        "    'Less than 50': lambda x: x < 50,\n",
        "    '100-200': lambda x: 100 <= x < 200,\n",
        "    '200-300': lambda x: 200 <= x < 300,\n",
        "    '300-400': lambda x: 300 <= x < 400,\n",
        "    '400-500': lambda x: 400 <= x < 500,\n",
        "    '500-700': lambda x: 500 <= x < 700,\n",
        "    'Greater than 700': lambda x: x > 700\n",
        "}\n",
        "\n",
        "# Count the occurrences in each price range\n",
        "price_counts = {range_name: sum(price_range(price) for price in unique_prices) for range_name, price_range in price_ranges.items()}\n",
        "\n",
        "\n",
        "labels = price_counts.keys()\n",
        "sizes = price_counts.values()\n",
        "\n",
        "fig, ax = plt.subplots()\n",
        "ax.pie(sizes, labels=labels, autopct='%1.1f%%', startangle=90)\n",
        "ax.axis('equal')\n",
        "\n",
        "plt.title('Distribution of Average Prices')\n",
        "plt.show()\n"
      ],
      "metadata": {
        "execution": {
          "iopub.status.busy": "2024-02-10T18:13:35.179844Z",
          "iopub.execute_input": "2024-02-10T18:13:35.180293Z",
          "iopub.status.idle": "2024-02-10T18:13:35.346365Z",
          "shell.execute_reply.started": "2024-02-10T18:13:35.180261Z",
          "shell.execute_reply": "2024-02-10T18:13:35.345131Z"
        },
        "trusted": true,
        "id": "IwG7GUY6UeJ4"
      },
      "execution_count": null,
      "outputs": []
    },
    {
      "cell_type": "code",
      "source": [
        "#To find all possible Cuisine in the dataset\n",
        "cuisine_column = df['Cuisine']\n",
        "\n",
        "all_cuisines = [cuisine.split(', ') for cuisine in cuisine_column if pd.notna(cuisine)]\n",
        "unique_cuisines = set([c for sublist in all_cuisines for c in sublist])\n",
        "\n",
        "print(\"All Possible Cuisines:\", unique_cuisines)\n"
      ],
      "metadata": {
        "execution": {
          "iopub.status.busy": "2024-02-10T18:14:07.406397Z",
          "iopub.execute_input": "2024-02-10T18:14:07.406873Z",
          "iopub.status.idle": "2024-02-10T18:14:07.98217Z",
          "shell.execute_reply.started": "2024-02-10T18:14:07.406837Z",
          "shell.execute_reply": "2024-02-10T18:14:07.980644Z"
        },
        "trusted": true,
        "id": "zoXJg-HOUeJ5"
      },
      "execution_count": null,
      "outputs": []
    },
    {
      "cell_type": "code",
      "source": [
        "import pandas as pd\n",
        "import plotly.express as px\n",
        "\n",
        "cuisine_counts = df['Cuisine'].str.split(', ').explode().value_counts()\n",
        "top_15_cuisines = cuisine_counts.head(15)\n",
        "plot_data = pd.DataFrame({'Cuisine': top_15_cuisines.index, 'Frequency': top_15_cuisines.values})\n",
        "colors = px.colors.qualitative.Set3\n",
        "\n",
        "fig = px.bar(plot_data, x='Frequency', y='Cuisine', color='Cuisine',\n",
        "             color_discrete_sequence=colors,\n",
        "             orientation='h', labels={'Frequency': 'Frequency'},\n",
        "             title='Top 15 Cuisines', width=800, height=500)\n",
        "\n",
        "fig.update_layout(showlegend=False)\n",
        "fig.show()\n"
      ],
      "metadata": {
        "execution": {
          "iopub.status.busy": "2024-02-10T18:14:31.894252Z",
          "iopub.execute_input": "2024-02-10T18:14:31.894629Z",
          "iopub.status.idle": "2024-02-10T18:14:32.511654Z",
          "shell.execute_reply.started": "2024-02-10T18:14:31.8946Z",
          "shell.execute_reply": "2024-02-10T18:14:32.510355Z"
        },
        "trusted": true,
        "id": "9bD664NLUeJ6"
      },
      "execution_count": null,
      "outputs": []
    },
    {
      "cell_type": "code",
      "source": [
        "from wordcloud import WordCloud\n",
        "import matplotlib.pyplot as plt\n",
        "\n",
        "cuisine_text = ','.join(df['Cuisine'].dropna())\n",
        "\n",
        "wordcloud = WordCloud(width=800, height=400, background_color='white').generate(cuisine_text)\n",
        "\n",
        "\n",
        "plt.figure(figsize=(10, 5))\n",
        "plt.imshow(wordcloud, interpolation='bilinear')\n",
        "plt.axis('off')\n",
        "plt.show()\n"
      ],
      "metadata": {
        "execution": {
          "iopub.status.busy": "2024-02-10T18:21:18.1114Z",
          "iopub.execute_input": "2024-02-10T18:21:18.111853Z",
          "iopub.status.idle": "2024-02-10T18:21:20.66278Z",
          "shell.execute_reply.started": "2024-02-10T18:21:18.111793Z",
          "shell.execute_reply": "2024-02-10T18:21:20.661258Z"
        },
        "trusted": true,
        "id": "WYWvHC6aUeJ6"
      },
      "execution_count": null,
      "outputs": []
    },
    {
      "cell_type": "code",
      "source": [
        "import matplotlib.pyplot as plt\n",
        "import seaborn as sns\n",
        "\n",
        "average_price = df['Average Price']\n",
        "df['Rating'] = pd.to_numeric(df['Rating'], errors='coerce')\n",
        "\n",
        "# Define rating categories\n",
        "def categorize_rating(rating):\n",
        "    if rating < 3:\n",
        "        return '<3'\n",
        "    elif 3 <= rating < 4:\n",
        "        return '3-4'\n",
        "    else:\n",
        "        return '4+'\n",
        "\n",
        "df['Rating Category'] = df['Rating'].apply(categorize_rating)\n",
        "\n",
        "# Define a color palette for each category\n",
        "palette = {'<3': 'red', '3-4': 'orange', '4+': 'green'}\n",
        "\n",
        "plt.figure(figsize=(10, 6))\n",
        "sns.scatterplot(x=average_price, y=df['Rating'], hue=df['Rating Category'], palette=palette, alpha=0.7)\n",
        "plt.title('Relation between Average Price and Rating')\n",
        "plt.xlabel('Average Price')\n",
        "plt.ylabel('Rating')\n",
        "plt.legend(title='Rating Category')\n",
        "plt.show()\n"
      ],
      "metadata": {
        "execution": {
          "iopub.status.busy": "2024-02-10T18:21:43.736144Z",
          "iopub.execute_input": "2024-02-10T18:21:43.736585Z",
          "iopub.status.idle": "2024-02-10T18:21:49.962453Z",
          "shell.execute_reply.started": "2024-02-10T18:21:43.736549Z",
          "shell.execute_reply": "2024-02-10T18:21:49.961298Z"
        },
        "trusted": true,
        "id": "3NMBz4b7UeJ8"
      },
      "execution_count": null,
      "outputs": []
    },
    {
      "cell_type": "code",
      "source": [
        "import pandas as pd\n",
        "import plotly.express as px\n",
        "from geopy.geocoders import ArcGIS\n",
        "\n",
        "\n",
        "df = df[df['Location'] != '-']\n",
        "restaurant_count = df.groupby(\"Location\")[\"Restaurant Name\"].count().reset_index(name='count')\n",
        "\n",
        "nom = ArcGIS()\n",
        "restaurant_count[[\"Lat\", \"Long\"]] = restaurant_count['Location'].apply(lambda x: nom.geocode(x)[1]).apply(pd.Series)\n",
        "\n",
        "fig = px.scatter_mapbox(\n",
        "    restaurant_count,\n",
        "    lon='Long',\n",
        "    lat='Lat',\n",
        "    zoom=3,\n",
        "    color='Location',\n",
        "    size='count',\n",
        "    title='Restaurant Distribution Across Locations',\n",
        "    mapbox_style='open-street-map',\n",
        ")\n",
        "\n",
        "fig.update_layout(margin={\"r\": 0, 't': 50, 'l': 0, 'b': 10})\n",
        "fig.show()\n"
      ],
      "metadata": {
        "execution": {
          "iopub.status.busy": "2024-02-10T18:23:30.684866Z",
          "iopub.execute_input": "2024-02-10T18:23:30.685407Z",
          "iopub.status.idle": "2024-02-10T18:29:17.088818Z",
          "shell.execute_reply.started": "2024-02-10T18:23:30.685365Z",
          "shell.execute_reply": "2024-02-10T18:29:17.087525Z"
        },
        "trusted": true,
        "id": "GJeMyiYOUeJ8"
      },
      "execution_count": null,
      "outputs": []
    },
    {
      "cell_type": "code",
      "source": [
        "import pandas as pd\n",
        "import plotly.express as px\n",
        "from geopy.geocoders import ArcGIS\n",
        "\n",
        "# Assuming your data is in a DataFrame named 'df'\n",
        "# Replace 'Location' with the actual column name from your dataset\n",
        "\n",
        "# Filter out rows with '-' location (if applicable)\n",
        "df = df[df['Location'] != '-']\n",
        "\n",
        "# Group by Location and get the count of restaurants\n",
        "restaurant_count = df.groupby(\"Location\")[\"Restaurant Name\"].count().reset_index(name='count')\n",
        "\n",
        "# Geocode locations using ArcGIS\n",
        "nom = ArcGIS()\n",
        "restaurant_count[[\"Lat\", \"Long\"]] = restaurant_count['Location'].apply(lambda x: nom.geocode(x)[1]).apply(pd.Series)\n",
        "\n",
        "# Create a heatmap on Mapbox\n",
        "fig = px.density_mapbox(\n",
        "    restaurant_count.dropna(subset=['Lat', 'Long']),\n",
        "    lat='Lat',\n",
        "    lon='Long',\n",
        "    z='count',\n",
        "    radius=10,  # Adjust the radius as needed\n",
        "    zoom=4,\n",
        "    mapbox_style=\"carto-positron\",  # You can try other mapbox styles\n",
        "    title='Restaurant Heatmap in India',\n",
        ")\n",
        "\n",
        "# Show the plot\n",
        "fig.show()\n"
      ],
      "metadata": {
        "execution": {
          "iopub.status.busy": "2024-02-10T18:29:17.091363Z",
          "iopub.execute_input": "2024-02-10T18:29:17.092458Z",
          "iopub.status.idle": "2024-02-10T18:35:03.758516Z",
          "shell.execute_reply.started": "2024-02-10T18:29:17.092421Z",
          "shell.execute_reply": "2024-02-10T18:35:03.757296Z"
        },
        "trusted": true,
        "id": "jsd04tlLUeJ9"
      },
      "execution_count": null,
      "outputs": []
    }
  ]
}